{
    "cells": [
        {
            "cell_type": "code",
            "execution_count": 7,
            "source": [
                "# Notebook to make the data table \r\n",
                "import pandas as pd\r\n",
                "import datetime"
            ],
            "outputs": [],
            "metadata": {}
        },
        {
            "cell_type": "code",
            "execution_count": 9,
            "source": [
                "data = pd.read_csv(\"../Resources/cities.csv\")\r\n",
                "data['Date'] = pd.to_datetime(data['Date'],unit='s')\r\n",
                "data.head()"
            ],
            "outputs": [
                {
                    "output_type": "execute_result",
                    "data": {
                        "text/plain": [
                            "   City_ID          City  Cloudiness Country                Date  Humidity  \\\n",
                            "0        0  jacareacanga           0      BR 2018-06-13 15:00:00        62   \n",
                            "1        1    kaitangata         100      NZ 2018-06-13 15:55:04        94   \n",
                            "2        2      goulburn          20      AU 2018-06-13 15:51:18        91   \n",
                            "3        3          lata          76      IN 2018-06-13 15:55:05        89   \n",
                            "4        4    chokurdakh           0      RU 2018-06-13 15:55:06        88   \n",
                            "\n",
                            "     Lat     Lng  Max Temp  Wind Speed  \n",
                            "0  -6.22  -57.76     89.60        6.93  \n",
                            "1 -46.28  169.85     42.61        5.64  \n",
                            "2 -34.75  149.72     44.32       10.11  \n",
                            "3  30.78   78.62     59.89        0.94  \n",
                            "4  70.62  147.90     32.17        2.95  "
                        ],
                        "text/html": [
                            "<div>\n",
                            "<style scoped>\n",
                            "    .dataframe tbody tr th:only-of-type {\n",
                            "        vertical-align: middle;\n",
                            "    }\n",
                            "\n",
                            "    .dataframe tbody tr th {\n",
                            "        vertical-align: top;\n",
                            "    }\n",
                            "\n",
                            "    .dataframe thead th {\n",
                            "        text-align: right;\n",
                            "    }\n",
                            "</style>\n",
                            "<table border=\"1\" class=\"dataframe\">\n",
                            "  <thead>\n",
                            "    <tr style=\"text-align: right;\">\n",
                            "      <th></th>\n",
                            "      <th>City_ID</th>\n",
                            "      <th>City</th>\n",
                            "      <th>Cloudiness</th>\n",
                            "      <th>Country</th>\n",
                            "      <th>Date</th>\n",
                            "      <th>Humidity</th>\n",
                            "      <th>Lat</th>\n",
                            "      <th>Lng</th>\n",
                            "      <th>Max Temp</th>\n",
                            "      <th>Wind Speed</th>\n",
                            "    </tr>\n",
                            "  </thead>\n",
                            "  <tbody>\n",
                            "    <tr>\n",
                            "      <th>0</th>\n",
                            "      <td>0</td>\n",
                            "      <td>jacareacanga</td>\n",
                            "      <td>0</td>\n",
                            "      <td>BR</td>\n",
                            "      <td>2018-06-13 15:00:00</td>\n",
                            "      <td>62</td>\n",
                            "      <td>-6.22</td>\n",
                            "      <td>-57.76</td>\n",
                            "      <td>89.60</td>\n",
                            "      <td>6.93</td>\n",
                            "    </tr>\n",
                            "    <tr>\n",
                            "      <th>1</th>\n",
                            "      <td>1</td>\n",
                            "      <td>kaitangata</td>\n",
                            "      <td>100</td>\n",
                            "      <td>NZ</td>\n",
                            "      <td>2018-06-13 15:55:04</td>\n",
                            "      <td>94</td>\n",
                            "      <td>-46.28</td>\n",
                            "      <td>169.85</td>\n",
                            "      <td>42.61</td>\n",
                            "      <td>5.64</td>\n",
                            "    </tr>\n",
                            "    <tr>\n",
                            "      <th>2</th>\n",
                            "      <td>2</td>\n",
                            "      <td>goulburn</td>\n",
                            "      <td>20</td>\n",
                            "      <td>AU</td>\n",
                            "      <td>2018-06-13 15:51:18</td>\n",
                            "      <td>91</td>\n",
                            "      <td>-34.75</td>\n",
                            "      <td>149.72</td>\n",
                            "      <td>44.32</td>\n",
                            "      <td>10.11</td>\n",
                            "    </tr>\n",
                            "    <tr>\n",
                            "      <th>3</th>\n",
                            "      <td>3</td>\n",
                            "      <td>lata</td>\n",
                            "      <td>76</td>\n",
                            "      <td>IN</td>\n",
                            "      <td>2018-06-13 15:55:05</td>\n",
                            "      <td>89</td>\n",
                            "      <td>30.78</td>\n",
                            "      <td>78.62</td>\n",
                            "      <td>59.89</td>\n",
                            "      <td>0.94</td>\n",
                            "    </tr>\n",
                            "    <tr>\n",
                            "      <th>4</th>\n",
                            "      <td>4</td>\n",
                            "      <td>chokurdakh</td>\n",
                            "      <td>0</td>\n",
                            "      <td>RU</td>\n",
                            "      <td>2018-06-13 15:55:06</td>\n",
                            "      <td>88</td>\n",
                            "      <td>70.62</td>\n",
                            "      <td>147.90</td>\n",
                            "      <td>32.17</td>\n",
                            "      <td>2.95</td>\n",
                            "    </tr>\n",
                            "  </tbody>\n",
                            "</table>\n",
                            "</div>"
                        ]
                    },
                    "metadata": {},
                    "execution_count": 9
                }
            ],
            "metadata": {}
        },
        {
            "cell_type": "code",
            "execution_count": 10,
            "source": [
                "data.to_html(\"../Resources/table.html\",index=False)"
            ],
            "outputs": [],
            "metadata": {}
        }
    ],
    "metadata": {
        "orig_nbformat": 4,
        "language_info": {
            "name": "python",
            "version": "3.8.5",
            "mimetype": "text/x-python",
            "codemirror_mode": {
                "name": "ipython",
                "version": 3
            },
            "pygments_lexer": "ipython3",
            "nbconvert_exporter": "python",
            "file_extension": ".py"
        },
        "kernelspec": {
            "name": "python3",
            "display_name": "Python 3.8.5 64-bit ('PythonData': conda)"
        },
        "interpreter": {
            "hash": "9bffe33b5fd20bd79db2aeb53e20f32ff9281612073e95f8cc7d91022c1172a1"
        }
    },
    "nbformat": 4,
    "nbformat_minor": 2
}